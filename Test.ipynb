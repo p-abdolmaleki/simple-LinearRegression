{
 "cells": [
  {
   "cell_type": "code",
   "execution_count": 1,
   "id": "93a5ae9d-8efc-4247-88ec-59f4d01a1321",
   "metadata": {},
   "outputs": [],
   "source": [
    "from LinearRegrassion import LinearRegression\n",
    "import numpy as np"
   ]
  },
  {
   "cell_type": "code",
   "execution_count": 2,
   "id": "8454e4d6-5bef-4b41-ab73-7cc851f82f95",
   "metadata": {},
   "outputs": [
    {
     "name": "stdout",
     "output_type": "stream",
     "text": [
      "prediction: [1.99999998 2.99999999 3.99999999 5.         6.00000001]\n",
      "line equation: 1 x +  1 = y\n"
     ]
    }
   ],
   "source": [
    "lr = LinearRegression(0.001, 100000)\n",
    "X = np.array([1, 2, 3, 4, 5])\n",
    "y = np.array([2, 3, 4, 5, 6])\n",
    "# y = x + 1\n",
    "lr.fit(X, y)\n",
    "print('prediction:', lr.predict(X))\n",
    "print('line equation:', round(lr.weights), 'x + ', round(lr.intercept), '= y')"
   ]
  },
  {
   "cell_type": "code",
   "execution_count": 3,
   "id": "85d43195-1ad0-43eb-9b31-9fe791668afa",
   "metadata": {},
   "outputs": [
    {
     "name": "stdout",
     "output_type": "stream",
     "text": [
      "prediction: [ 4.  6. 10. 19. 12.]\n",
      "line equation: 3 x[0] + 2 x[1] + -1  = y\n"
     ]
    }
   ],
   "source": [
    "import numpy as np\n",
    "X = np.array([[1, 1], [1, 2], [3,1], [4,4], [1,5]])\n",
    "y = np.array([4, 6, 10, 19, 12])\n",
    "# y = 3x[0] + 2x[1] - 1 = y\n",
    "lr = LinearRegression(0.001, 100000)\n",
    "lr.fit(X, y)\n",
    "print('prediction:', lr.predict(X))\n",
    "print('line equation: ', end='')\n",
    "for i, weight in enumerate(lr.weights):\n",
    "    print(round(weight), f'x[{i}] + ',end ='')\n",
    "print(round(lr.intercept), ' = y')"
   ]
  }
 ],
 "metadata": {
  "kernelspec": {
   "display_name": "Python 3 (ipykernel)",
   "language": "python",
   "name": "python3"
  },
  "language_info": {
   "codemirror_mode": {
    "name": "ipython",
    "version": 3
   },
   "file_extension": ".py",
   "mimetype": "text/x-python",
   "name": "python",
   "nbconvert_exporter": "python",
   "pygments_lexer": "ipython3",
   "version": "3.9.18"
  }
 },
 "nbformat": 4,
 "nbformat_minor": 5
}
